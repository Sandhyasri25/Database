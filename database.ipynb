{
 "cells": [
  {
   "cell_type": "code",
   "execution_count": 1,
   "id": "11d91ad6-5a72-4757-a797-05c8979d203d",
   "metadata": {},
   "outputs": [
    {
     "name": "stdout",
     "output_type": "stream",
     "text": [
      "Requirement already satisfied: PyMySQL in c:\\users\\anb\\anaconda3\\lib\\site-packages (1.1.1)\n",
      "Requirement already satisfied: ipython.sql in c:\\users\\anb\\anaconda3\\lib\\site-packages (0.5.0)\n",
      "Requirement already satisfied: prettytable in c:\\users\\anb\\anaconda3\\lib\\site-packages (from ipython.sql) (3.12.0)\n",
      "Requirement already satisfied: ipython in c:\\users\\anb\\anaconda3\\lib\\site-packages (from ipython.sql) (8.27.0)\n",
      "Requirement already satisfied: sqlalchemy>=2.0 in c:\\users\\anb\\anaconda3\\lib\\site-packages (from ipython.sql) (2.0.34)\n",
      "Requirement already satisfied: sqlparse in c:\\users\\anb\\anaconda3\\lib\\site-packages (from ipython.sql) (0.5.3)\n",
      "Requirement already satisfied: six in c:\\users\\anb\\anaconda3\\lib\\site-packages (from ipython.sql) (1.16.0)\n",
      "Requirement already satisfied: ipython-genutils in c:\\users\\anb\\anaconda3\\lib\\site-packages (from ipython.sql) (0.2.0)\n",
      "Requirement already satisfied: typing-extensions>=4.6.0 in c:\\users\\anb\\anaconda3\\lib\\site-packages (from sqlalchemy>=2.0->ipython.sql) (4.11.0)\n",
      "Requirement already satisfied: greenlet!=0.4.17 in c:\\users\\anb\\anaconda3\\lib\\site-packages (from sqlalchemy>=2.0->ipython.sql) (3.0.1)\n",
      "Requirement already satisfied: decorator in c:\\users\\anb\\anaconda3\\lib\\site-packages (from ipython->ipython.sql) (5.1.1)\n",
      "Requirement already satisfied: jedi>=0.16 in c:\\users\\anb\\anaconda3\\lib\\site-packages (from ipython->ipython.sql) (0.19.1)\n",
      "Requirement already satisfied: matplotlib-inline in c:\\users\\anb\\anaconda3\\lib\\site-packages (from ipython->ipython.sql) (0.1.6)\n",
      "Requirement already satisfied: prompt-toolkit<3.1.0,>=3.0.41 in c:\\users\\anb\\anaconda3\\lib\\site-packages (from ipython->ipython.sql) (3.0.43)\n",
      "Requirement already satisfied: pygments>=2.4.0 in c:\\users\\anb\\anaconda3\\lib\\site-packages (from ipython->ipython.sql) (2.15.1)\n",
      "Requirement already satisfied: stack-data in c:\\users\\anb\\anaconda3\\lib\\site-packages (from ipython->ipython.sql) (0.2.0)\n",
      "Requirement already satisfied: traitlets>=5.13.0 in c:\\users\\anb\\anaconda3\\lib\\site-packages (from ipython->ipython.sql) (5.14.3)\n",
      "Requirement already satisfied: colorama in c:\\users\\anb\\anaconda3\\lib\\site-packages (from ipython->ipython.sql) (0.4.6)\n",
      "Requirement already satisfied: wcwidth in c:\\users\\anb\\anaconda3\\lib\\site-packages (from prettytable->ipython.sql) (0.2.5)\n",
      "Requirement already satisfied: parso<0.9.0,>=0.8.3 in c:\\users\\anb\\anaconda3\\lib\\site-packages (from jedi>=0.16->ipython->ipython.sql) (0.8.3)\n",
      "Requirement already satisfied: executing in c:\\users\\anb\\anaconda3\\lib\\site-packages (from stack-data->ipython->ipython.sql) (0.8.3)\n",
      "Requirement already satisfied: asttokens in c:\\users\\anb\\anaconda3\\lib\\site-packages (from stack-data->ipython->ipython.sql) (2.0.5)\n",
      "Requirement already satisfied: pure-eval in c:\\users\\anb\\anaconda3\\lib\\site-packages (from stack-data->ipython->ipython.sql) (0.2.2)\n",
      "Requirement already satisfied: mysqlclient in c:\\users\\anb\\anaconda3\\lib\\site-packages (2.2.6)\n"
     ]
    }
   ],
   "source": [
    "! pip install PyMySQL\n",
    "! pip install ipython.sql\n",
    "! pip install mysqlclient"
   ]
  },
  {
   "cell_type": "code",
   "execution_count": 3,
   "id": "783cdb96-a3cc-49b1-8bbb-fad5a2c6b3ea",
   "metadata": {},
   "outputs": [],
   "source": [
    "import pymysql"
   ]
  },
  {
   "cell_type": "code",
   "execution_count": 5,
   "id": "603984fb-7fc3-422a-965a-e096cf4ab818",
   "metadata": {},
   "outputs": [
    {
     "name": "stdout",
     "output_type": "stream",
     "text": [
      "connection successfull\n"
     ]
    }
   ],
   "source": [
    "db_name=\"warehouse\"\n",
    "db_host=\"localhost\"\n",
    "db_username=\"root\"\n",
    "db_password=\"sanMS123@\"\n",
    "try:\n",
    "    conn=pymysql.connect(host=db_host,\n",
    "                         port=int(3306),\n",
    "                         user=\"root\",\n",
    "                         password=\"sanMS123@\",\n",
    "                         db=db_name)\n",
    "except e:\n",
    "    print(e)\n",
    "if conn:\n",
    "    print(\"connection successfull\")\n",
    "else:\n",
    "   print(\"error\")\n"
   ]
  },
  {
   "cell_type": "code",
   "execution_count": 7,
   "id": "c5e4eb09-e36d-4751-bd66-5338cf00ec92",
   "metadata": {},
   "outputs": [
    {
     "name": "stdout",
     "output_type": "stream",
     "text": [
      "Available Databases :\n",
      "accmaster\n",
      "book\n",
      "client\n",
      "company\n",
      "employee\n",
      "information_schema\n",
      "institue\n",
      "library\n",
      "mysql\n",
      "performance_schema\n",
      "production\n",
      "school\n",
      "warehouse\n"
     ]
    }
   ],
   "source": [
    "try:\n",
    "    conn=pymysql.connect(host=\"localhost\",user=\"root\",password=\"sanMS123@\")\n",
    "    m1=conn.cursor()\n",
    "    m1.execute(\"show databases\")\n",
    "    print(\"Available Databases :\")\n",
    "    i=1\n",
    "    for db in m1:\n",
    "        print(db[0])  \n",
    "        i += 1\n",
    "except e:\n",
    "    print(e)\n"
   ]
  },
  {
   "cell_type": "code",
   "execution_count": 9,
   "id": "944335d5-e27e-4bad-866e-8a43fd4e42e1",
   "metadata": {},
   "outputs": [
    {
     "name": "stdout",
     "output_type": "stream",
     "text": [
      "connection successfull\n"
     ]
    }
   ],
   "source": [
    "import pymysql\n",
    "db_name=\"school\"\n",
    "db_host=\"localhost\"\n",
    "db_username=\"root\"\n",
    "db_password=\"sanMS123@\"\n",
    "try:\n",
    "    conn=pymysql.connect(host=db_host,\n",
    "                         port=int(3306),\n",
    "                         user=\"root\",\n",
    "                         password=\"sanMS123@\",\n",
    "                         db=db_name)\n",
    "except e:\n",
    "    print(e)\n",
    "if conn:\n",
    "    print(\"connection successfull\")\n",
    "else:\n",
    "   print(\"error\")\n"
   ]
  },
  {
   "cell_type": "code",
   "execution_count": 11,
   "id": "a987d744-8d84-4df3-8ea7-087cb2592c46",
   "metadata": {},
   "outputs": [
    {
     "name": "stdout",
     "output_type": "stream",
     "text": [
      "(1046, 'No database selected')\n"
     ]
    }
   ],
   "source": [
    "\n",
    "import pymysql\n",
    "\n",
    "try:\n",
    "    conn = pymysql.connect(host=\"localhost\", user=\"root\", password=\"sanMS123@\")\n",
    "    m1 = conn.cursor()\n",
    "    m1.execute(\"select * from school\")\n",
    "    print(\"School Database:\")\n",
    "    i = 1\n",
    "    for db in m1:\n",
    "        print(db[0])  \n",
    "        i += 1\n",
    "except Exception as e: \n",
    "    print(e)\n"
   ]
  },
  {
   "cell_type": "code",
   "execution_count": 13,
   "id": "860f9fbe-b364-46ad-9417-7f7c8745d709",
   "metadata": {},
   "outputs": [
    {
     "name": "stdout",
     "output_type": "stream",
     "text": [
      "connection successfull\n"
     ]
    }
   ],
   "source": [
    "import pymysql\n",
    "db_name=\"accmaster\"\n",
    "db_host=\"localhost\"\n",
    "db_username=\"root\"\n",
    "db_password=\"sanMS123@\"\n",
    "try:\n",
    "    conn=pymysql.connect(host=db_host,\n",
    "                         port=int(3306),\n",
    "                         user=\"root\",\n",
    "                         password=\"sanMS123@\",\n",
    "                         db=db_name)\n",
    "except e:\n",
    "    print(e)\n",
    "if conn:\n",
    "    print(\"connection successfull\")\n",
    "else:\n",
    "   print(\"error\")"
   ]
  },
  {
   "cell_type": "code",
   "execution_count": 15,
   "id": "500582b3-5427-47b6-8b94-7f4063ab3dc3",
   "metadata": {},
   "outputs": [
    {
     "name": "stdout",
     "output_type": "stream",
     "text": [
      "AC001 kiran   10000.00\n",
      "AC002 ajay   5000.00\n",
      "AC003 suresh   12000.00\n",
      "AC004 kishore   6500.00\n",
      "AC005 amar   8000.00\n",
      "AC006 ravi   4000.00\n",
      "AC007 Sowmya   38000.00\n",
      "AC008 lakshman   10000.00\n",
      "AC009 srilakshmi   39000.00\n",
      "AC011 Srivani   38500.00\n",
      "AC012 srija   39000.00\n",
      "AC013 samala   39000.00\n",
      "AC014 srinija   38000.00\n",
      "AC015 chandu   39500.00\n",
      "AC016 jaydeep   40000.00\n",
      "AC018 ravi   50000.00\n"
     ]
    }
   ],
   "source": [
    "\n",
    "mycursor=conn.cursor()\n",
    "mycursor.execute(\"select * from accmaster\")\n",
    "for x in mycursor:\n",
    "    print(x[0],x[1],' ',x[2]) "
   ]
  },
  {
   "cell_type": "code",
   "execution_count": 17,
   "id": "d47399a8-b91b-4c2e-b59d-785207cbf7f4",
   "metadata": {},
   "outputs": [
    {
     "name": "stdout",
     "output_type": "stream",
     "text": [
      "1 . accmaster\n",
      "2 . book\n",
      "3 . client\n",
      "4 . company\n",
      "5 . employee\n",
      "6 . information_schema\n",
      "7 . institue\n",
      "8 . library\n",
      "9 . mysql\n",
      "10 . performance_schema\n",
      "11 . production\n",
      "12 . school\n",
      "13 . warehouse\n"
     ]
    },
    {
     "name": "stdin",
     "output_type": "stream",
     "text": [
      "Enter the choice for database (as a number):  1\n"
     ]
    },
    {
     "name": "stdout",
     "output_type": "stream",
     "text": [
      "1 . accmaster\n",
      "2 . acctrans\n",
      "3 . interest\n"
     ]
    },
    {
     "name": "stdin",
     "output_type": "stream",
     "text": [
      "Enter the choice for the table (as a number):  2\n"
     ]
    },
    {
     "name": "stdout",
     "output_type": "stream",
     "text": [
      "AC002 d 6000.00\n",
      "AC004 w 2000.00\n",
      "AC004 w 300.00\n",
      "AC004 w 200.00\n",
      "AC004 d 500.00\n",
      "AC008 w 2000.00\n",
      "AC011 w 500.00\n",
      "AC015 d 500.00\n",
      "AC018 d 5000.00\n",
      "AC009 w 2500.00\n"
     ]
    },
    {
     "name": "stdin",
     "output_type": "stream",
     "text": [
      "Do you want to continue [yes/no]?  no\n"
     ]
    }
   ],
   "source": [
    "\n",
    " mycursor = conn.cursor()\n",
    "choice = \"yes\"\n",
    "\n",
    "while choice.lower() == \"yes\":\n",
    "    try:\n",
    "        mycursor.execute(\"show databases\")\n",
    "        i = 1\n",
    "        dl = []\n",
    "        for x in mycursor:\n",
    "            print(i, '.', x[0])\n",
    "            dl.append(x[0])\n",
    "            i += 1\n",
    "        while True:\n",
    "            try:\n",
    "                dc = int(input(\"Enter the choice for database (as a number): \"))\n",
    "                if 1 <= dc <= len(dl):\n",
    "                    break\n",
    "                else:\n",
    "                    print(f\"Invalid choice. Please select a number between 1 and {len(dl)}.\")\n",
    "            except ValueError:\n",
    "                print(\"Invalid input. Please enter a numeric value.\")\n",
    "\n",
    "        dst = \"use \" + dl[dc - 1]\n",
    "        mycursor.execute(dst)\n",
    "        mycursor.execute(\"show tables\")\n",
    "        i = 1\n",
    "        tl = []\n",
    "        for y in mycursor:\n",
    "            print(i, '.', y[0])\n",
    "            tl.append(y[0])\n",
    "            i += 1\n",
    "\n",
    "        # Select a table\n",
    "        while True:\n",
    "            try:\n",
    "                tc = int(input(\"Enter the choice for the table (as a number): \"))\n",
    "                if 1 <= tc <= len(tl):\n",
    "                    break\n",
    "                else:\n",
    "                    print(f\"Invalid choice. Please select a number between 1 and {len(tl)}.\")\n",
    "            except ValueError:\n",
    "                print(\"Invalid input. Please enter a numeric value.\")\n",
    "\n",
    "        tst = \"select * from \" + tl[tc - 1]\n",
    "        mycursor.execute(tst)\n",
    "\n",
    "        for row in mycursor:\n",
    "            print(*row)  \n",
    "        \n",
    "        choice = input(\"Do you want to continue [yes/no]? \").strip().lower()\n",
    "    except Exception as e:\n",
    "        print(f\"An error occurred: {e}\")\n",
    "        break\n"
   ]
  },
  {
   "cell_type": "code",
   "execution_count": 19,
   "id": "42cd1e91-e2a6-4120-b798-1b3d1804c7b5",
   "metadata": {},
   "outputs": [
    {
     "name": "stdout",
     "output_type": "stream",
     "text": [
      "connection successfull\n"
     ]
    },
    {
     "name": "stdin",
     "output_type": "stream",
     "text": [
      "enter regno 109\n",
      "enter name ram\n"
     ]
    }
   ],
   "source": [
    "import pymysql\n",
    "db_name=\"school\"\n",
    "db_host=\"localhost\"\n",
    "db_username=\"root\"\n",
    "db_password=\"sanMS123@\"\n",
    "try:\n",
    "    conn=pymysql.connect(host=db_host,\n",
    "                         port=int(3306),\n",
    "                         user=\"root\",\n",
    "                         password=\"sanMS123@\",\n",
    "                         db=db_name)\n",
    "except e:\n",
    "    print(e)\n",
    "if conn:\n",
    "    print(\"connection successfull\")\n",
    "else:\n",
    "   print(\"error\")\n",
    "mycursor=conn.cursor()\n",
    "regno=int(input(\"enter regno\"))\n",
    "na=input(\"enter name\")\n",
    "mycursor.execute(\"insert into school(regno,sname) values(\" + str(regno) + \",'\" + na + \" ')\")\n",
    "mycursor.execute(\"commit\");"
   ]
  },
  {
   "cell_type": "code",
   "execution_count": 21,
   "id": "d59c9313-c058-460d-8960-4fb49097a90e",
   "metadata": {},
   "outputs": [
    {
     "name": "stdout",
     "output_type": "stream",
     "text": [
      "Connection successful\n"
     ]
    },
    {
     "name": "stdin",
     "output_type": "stream",
     "text": [
      "Enter Account Number:  Ac001\n",
      "Enter Transaction Type (withdraw or deposit):  withdraw\n",
      "Enter Transaction Amount:  500\n"
     ]
    },
    {
     "name": "stdout",
     "output_type": "stream",
     "text": [
      "Account number not found.\n"
     ]
    }
   ],
   "source": [
    "import pymysql\n",
    "db_name = \"accmaster\"\n",
    "db_host = \"localhost\"\n",
    "db_username = \"root\"\n",
    "db_password = \"sanMS123@\"\n",
    "try:\n",
    "    conn = pymysql.connect(\n",
    "        host=db_host,\n",
    "        port=3306,\n",
    "        user=db_username,\n",
    "        password=db_password,\n",
    "        db=db_name\n",
    "    )\n",
    "except Exception as e:\n",
    "    print(f\"Error connecting to the database: {e}\")\n",
    "    conn = None\n",
    "\n",
    "if conn:\n",
    "    print(\"Connection successful\")\n",
    "else:\n",
    "    print(\"Error in connection\")\n",
    "    exit()\n",
    "\n",
    "try:\n",
    "    accmcursor = conn.cursor()\n",
    "    acctcursor = conn.cursor()\n",
    "    accmcursor.execute(\"SELECT accno, balance FROM accmaster\")\n",
    "    accounts = accmcursor.fetchall()\n",
    "    ano = input(\"Enter Account Number: \")\n",
    "    tty = input(\"Enter Transaction Type (withdraw or deposit): \").lower()\n",
    "    tamt = int(input(\"Enter Transaction Amount: \"))\n",
    "    flag = False\n",
    "    for acc in accounts:\n",
    "        if acc[0] == ano:\n",
    "            flag = True\n",
    "            bal = acc[1]\n",
    "            break\n",
    "    if flag:\n",
    "        if tty == \"deposit\":\n",
    "            bal += tamt\n",
    "        elif tty == \"withdraw\":\n",
    "            if tamt > bal:\n",
    "                print(\"Insufficient funds for withdrawal.\")\n",
    "                conn.close()\n",
    "                exit()\n",
    "            bal -= tamt\n",
    "        else:\n",
    "            print(\"Invalid transaction type.\")\n",
    "            conn.close()\n",
    "            exit()\n",
    "        sqlUpd = \"UPDATE accmaster SET balance = %s WHERE accno = %s\"\n",
    "        val = (bal, ano)\n",
    "        acctcursor.execute(sqlUpd, val)\n",
    "        conn.commit()\n",
    "        print(\"Transaction completed successfully.\")\n",
    "    else:\n",
    "        print(\"Account number not found.\")\n",
    "\n",
    "except Exception as e:\n",
    "    \n",
    "    print(f\"An error occurred: {e}\")\n",
    "    conn.rollback()\n",
    "finally:\n",
    "    \n",
    "    conn.close()\n"
   ]
  },
  {
   "cell_type": "code",
   "execution_count": 29,
   "id": "70e8d1df-d2ce-4a89-ab7b-e5c1e5a8977f",
   "metadata": {},
   "outputs": [
    {
     "name": "stdout",
     "output_type": "stream",
     "text": [
      "Connection successful\n"
     ]
    }
   ],
   "source": [
    "\n",
    "       import pymysql\n",
    "db_name = \"accmaster\"\n",
    "db_host = \"localhost\"\n",
    "db_username = \"root\"\n",
    "db_password = \"sanMS123@\"\n",
    "try:\n",
    "    conn = pymysql.connect(\n",
    "        host=db_host,\n",
    "        port=3306,\n",
    "        user=db_username,\n",
    "        password=db_password,\n",
    "        db=db_name\n",
    "    )\n",
    "except Exception as e:\n",
    "    print(f\"Error connecting to the database: {e}\")\n",
    "    conn = None\n",
    "\n",
    "if conn:\n",
    "    print(\"Connection successful\")\n",
    "else:\n",
    "    print(\"Error in connection\")\n"
   ]
  },
  {
   "cell_type": "code",
   "execution_count": 37,
   "id": "a2591254-cb9a-4b57-8b31-162570087395",
   "metadata": {},
   "outputs": [],
   "source": [
    "def setacctrans(self):\n",
    "    self.accno = input(\"Enter accno: \")\n",
    "    self.ttype = input(\"Enter transaction type (deposit/withdraw): \").lower()\n",
    "    self.tamount = int(input(\"Enter transaction amount: \"))\n",
    "\n",
    "    # Fetch current balance for the account\n",
    "    self.mycursor.execute(\"SELECT balance FROM accmaster WHERE accno = %s\", (self.accno,))\n",
    "    result = self.mycursor.fetchone()\n",
    "\n",
    "    if result:\n",
    "        current_balance = result[0]\n",
    "        if self.ttype == \"deposit\":\n",
    "            new_balance = current_balance + self.tamount\n",
    "        elif self.ttype == \"withdraw\":\n",
    "            if self.tamount > current_balance:\n",
    "                print(\"Insufficient balance!\")\n",
    "                return\n",
    "            new_balance = current_balance - self.tamount\n",
    "        else:\n",
    "            print(\"Invalid transaction type!\")\n",
    "            return\n",
    "\n",
    "        # Insert transaction record\n",
    "        sql_insert = \"INSERT INTO acctrans (accno, ttype, tamount) VALUES (%s, %s, %s)\"\n",
    "        self.mycursor.execute(sql_insert, (self.accno, self.ttype, self.tamount))\n",
    "\n",
    "        # Update account balance\n",
    "        sql_update = \"UPDATE accmaster SET balance = %s WHERE accno = %s\"\n",
    "        self.mycursor.execute(sql_update, (new_balance, self.accno))\n",
    "\n",
    "        self.conn.commit()\n",
    "        print(\"Transaction successful!\")\n",
    "    else:\n",
    "        print(\"Account not found!\")\n"
   ]
  },
  {
   "cell_type": "code",
   "execution_count": 63,
   "id": "01ca7b40-ae0c-4a0f-aa7a-e9139db71adf",
   "metadata": {},
   "outputs": [
    {
     "name": "stdin",
     "output_type": "stream",
     "text": [
      "Enter book ID:  2233\n",
      "Enter title:  tales\n",
      "Enter author:  jyo\n",
      "Enter ISBN:  1726535\n",
      "Enter status:  Available\n"
     ]
    },
    {
     "name": "stdout",
     "output_type": "stream",
     "text": [
      "Book added successfully.\n",
      "('B101', 'TenaliTales', 'Srikrishna', 1122, 'Available')\n",
      "('B102', 'Fair Tales', 'Sri Ram', 334455, 'Borrowed')\n",
      "('B103', 'Ali Baba', 'SriRagavendra', 667788, 'Available')\n",
      "('B104', 'funny Tales', 'SriRaghu', 891722, 'Available')\n",
      "('B105', 'jokes', 'Sivakrishna', 991234, 'Borrowed')\n",
      "('123', 'jay', 'kiran', 1234, 'Available')\n",
      "('123', 'jay', 'kiran', 112200, 'Available')\n",
      "('123', 'jay', 'kiran', 11222, 'Available')\n",
      "('123', 'jay', 'kiran', 8899, 'Available')\n",
      "('123', 'jay', 'kiran', 12345, 'Available')\n",
      "('123', 'jay', 'kiran', 12345, 'Available')\n",
      "('127', 'raj', 'kiran', 110022, 'Available')\n",
      "('190', 'jay', 'kiran', 110088, 'Available')\n",
      "('567', 'tales', 'krishna', 29010, 'Available')\n",
      "('567', 'tales', 'krishna', 2947, 'Available')\n",
      "('88', 'tales', 'krishna', 88999, 'Available')\n",
      "('7777', 'tales', 'krishna', 966, 'Available')\n",
      "('12345', 'jay', 'kiran', 12034, 'Available')\n",
      "('1234', 'jay', 'kiran', 19234, 'Available')\n",
      "('1932', 'jay', 'kiran', 93493, 'Available')\n",
      "('1567', 'jay', 'kiran', 9382, 'Available')\n",
      "('7236', 'jay', 'ajay', 9374, 'Available')\n",
      "('7854', 'jay', 'ajay', 789, 'Available')\n",
      "('12345', 'jay', 'kiran', 7834, 'Available')\n",
      "('12345', 'jay', 'kiran', 7834, 'Available')\n",
      "('12345', 'jay', 'kiran', 7834, 'Available')\n",
      "('108', 'tales', 'jyothi', 63224, 'Available')\n",
      "('563', 'tales', 'jyothi', 5463, 'Available')\n",
      "('2233', 'tales', 'jyo', 1726535, 'Available')\n"
     ]
    },
    {
     "name": "stdin",
     "output_type": "stream",
     "text": [
      "Enter name:  raviteja\n",
      "Enter member ID:  56533\n",
      "Enter email:  teja@123\n",
      "Enter number of borrowed books:  1\n"
     ]
    },
    {
     "name": "stdout",
     "output_type": "stream",
     "text": [
      "Error inserting member: (1406, \"Data too long for column 'name' at row 1\")\n",
      "('Raj', 'stid', 'raj@123', 3)\n",
      "('sam', 'empid', 'sam@456', 2)\n",
      "('ram', 'stid', 'ram@789', 4)\n",
      "('Raj', 'stid', 'raj@123', 3)\n",
      "('sam', 'empid', 'sam@456', 2)\n",
      "('ram', 'stid', 'ram@789', 4)\n",
      "('Raj', 'stid', 'raj@123', 3)\n",
      "('sam', 'empid', 'sam@456', 2)\n",
      "('ram', 'stid', 'ram@789', 4)\n",
      "('Raj', 'stid', 'raj@123', 3)\n",
      "('sam', 'empid', 'sam@456', 2)\n",
      "('ram', 'stid', 'ram@789', 4)\n",
      "('sam', 'stid', 'sam@123', 1)\n",
      "('sam', 'stid', 'sam@896', 3)\n",
      "('sam', 'stid', 'sam@896', 3)\n",
      "('stid', 'stid', 'sam@789', 3)\n"
     ]
    },
    {
     "name": "stdin",
     "output_type": "stream",
     "text": [
      "Enter staff ID:  2342\n",
      "Enter member ID:  AC110\n"
     ]
    },
    {
     "name": "stdout",
     "output_type": "stream",
     "text": [
      "Error inserting staff: (3819, \"Check constraint 'staff_chk_1' is violated.\")\n",
      "(1234, 'empid')\n",
      "(7896, 'empid')\n",
      "(567, 'empid')\n",
      "(567, 'empid')\n",
      "(567, 'empid')\n"
     ]
    }
   ],
   "source": [
    "import pymysql\n",
    "db_name = \"Library\"\n",
    "db_host = \"localhost\"\n",
    "db_username = \"root\"\n",
    "db_password = \"sanMS123@\"\n",
    "class DBConnection:\n",
    "    def __init__(self):\n",
    "        try:\n",
    "            self.conn = pymysql.connect(\n",
    "                host=db_host,\n",
    "                port=3306,\n",
    "                user=db_username,\n",
    "                password=db_password,\n",
    "                db=db_name\n",
    "            )\n",
    "            self.mycursor = self.conn.cursor()\n",
    "        except Exception as e:\n",
    "            print(f\"Error connecting to the database: {e}\")\n",
    "            self.conn = None\n",
    "            self.mycursor = None\n",
    "    def commit(self):\n",
    "        if self.conn:\n",
    "            self.conn.commit()\n",
    "    def close(self):\n",
    "        if self.conn:\n",
    "            self.conn.close()\n",
    "\n",
    "class Book(DBConnection):\n",
    "    def __init__(self):\n",
    "        super().__init__()\n",
    "\n",
    "    def setBook(self):\n",
    "        try:\n",
    "            self.book_id = int(input(\"Enter book ID: \"))\n",
    "            self.title = input(\"Enter title: \")\n",
    "            self.author = input(\"Enter author: \")\n",
    "            self.ISBN = int(input(\"Enter ISBN: \"))\n",
    "            self.status = input(\"Enter status: \")\n",
    "            self.mycursor.execute(\"INSERT INTO Book (book_id, title, author, ISBN, status) VALUES (%s, %s, %s, %s, %s)\",\n",
    "                                  (self.book_id, self.title, self.author, self.ISBN, self.status))\n",
    "            self.commit()\n",
    "            print(\"Book added successfully.\")\n",
    "        except Exception as e:\n",
    "            print(f\"Error inserting book: {e}\")\n",
    "\n",
    "    def getBook(self):\n",
    "        try:\n",
    "            self.mycursor.execute(\"SELECT * FROM Book\")\n",
    "            result = self.mycursor.fetchall()\n",
    "            for row in result:\n",
    "                print(row)\n",
    "        except Exception as e:\n",
    "            print(f\"Error fetching books: {e}\")\n",
    "class Members(DBConnection):\n",
    "    def __init__(self):\n",
    "        super().__init__()\n",
    "    def setMembers(self):\n",
    "        try:\n",
    "            self.name = input(\"Enter name: \")\n",
    "            self.member_id = input(\"Enter member ID: \")\n",
    "            self.email = input(\"Enter email: \")\n",
    "            self.borrowed_book = int(input(\"Enter number of borrowed books: \"))\n",
    "            self.mycursor.execute(\"INSERT INTO Members (name, member_id, email, borrowed_book) VALUES (%s, %s, %s, %s)\",\n",
    "                                  (self.name, self.member_id, self.email, self.borrowed_book))\n",
    "            self.commit()\n",
    "            print(\"Member added successfully.\")\n",
    "        except Exception as e:\n",
    "            print(f\"Error inserting member: {e}\")\n",
    "    def getMembers(self):\n",
    "        try:\n",
    "            self.mycursor.execute(\"SELECT * FROM Members\")\n",
    "            result = self.mycursor.fetchall()\n",
    "            for row in result:\n",
    "                print(row)\n",
    "        except Exception as e:\n",
    "            print(f\"Error fetching members: {e}\")\n",
    "class Staff(Members):\n",
    "    def __init__(self):\n",
    "        super().__init__()\n",
    "    def setStaff(self):\n",
    "        try:\n",
    "            self.staff_id = int(input(\"Enter staff ID: \"))\n",
    "            self.member_id = input(\"Enter member ID: \")\n",
    "            self.mycursor.execute(\"INSERT INTO Staff (staff_id, member_id) VALUES (%s, %s)\",\n",
    "                                  (self.staff_id, self.member_id))\n",
    "            self.commit()\n",
    "            print(\"Staff added successfully.\")\n",
    "        except Exception as e:\n",
    "            print(f\"Error inserting staff: {e}\")\n",
    "    def getStaff(self):\n",
    "        try:\n",
    "            self.mycursor.execute(\"SELECT * FROM Staff\")\n",
    "            result = self.mycursor.fetchall()\n",
    "            for row in result:\n",
    "                print(row)\n",
    "        except Exception as e:\n",
    "            print(f\"Error fetching staff: {e}\")\n",
    "book = Book()\n",
    "book.setBook()\n",
    "book.getBook()\n",
    "member = Members()\n",
    "member.setMembers()\n",
    "member.getMembers()\n",
    "staff = Staff()\n",
    "staff.setStaff()\n",
    "staff.getStaff()\n"
   ]
  },
  {
   "cell_type": "code",
   "execution_count": 69,
   "id": "200f0b90-b3ef-4d8f-99f3-622ebf17a2a3",
   "metadata": {},
   "outputs": [
    {
     "name": "stdin",
     "output_type": "stream",
     "text": [
      "enter book_id 456\n",
      "enter title tales\n"
     ]
    }
   ],
   "source": [
    "#mydb=conn.connect(host=\"localhost\",user=\"root\",passwd=\"sanMS123@\",database=\"Library\",auth_plugin='mysql_native_password')\n",
    "mycursor=conn.cursor()\n",
    "book_id=int(input(\"enter book_id\"))\n",
    "title=input(\"enter title\")\n",
    "class Book:\n",
    "      def setBook(self):\n",
    "          mycursor.execute(\"insert into book(book_id,title) values(\" + str(book_id) + \",'\" + title + \" ')\")\n",
    "      def getBook(self):\n",
    "          mycursor.execute(\" select * from book\")\n",
    "          mycursor.execute(\"commit\");"
   ]
  },
  {
   "cell_type": "code",
   "execution_count": 71,
   "id": "32606e86-1f4d-4eb0-ab0b-fc4a0c72eb43",
   "metadata": {},
   "outputs": [
    {
     "name": "stdout",
     "output_type": "stream",
     "text": [
      "Book '1984' added to the library.\n",
      "Book 'To Kill a Mockingbird' added to the library.\n",
      "Book 'The Great Gatsby' added to the library.\n",
      "Available books in the library:\n",
      "Title: 1984, Author: George Orwell, ISBN: 1234567890, Status: available\n",
      "Title: To Kill a Mockingbird, Author: Harper Lee, ISBN: 2345678901, Status: available\n",
      "Title: The Great Gatsby, Author: F. Scott Fitzgerald, ISBN: 3456789012, Status: available\n",
      "John Doe has borrowed '1984'.\n",
      "Name: John Doe, Member ID: M001, Email: john.doe@example.com, Borrowed Books: ['1984']\n",
      "'1984' is already borrowed.\n",
      "John Doe has returned '1984'.\n",
      "Available books in the library:\n",
      "Title: 1984, Author: George Orwell, ISBN: 1234567890, Status: available\n",
      "Title: To Kill a Mockingbird, Author: Harper Lee, ISBN: 2345678901, Status: available\n",
      "Title: The Great Gatsby, Author: F. Scott Fitzgerald, ISBN: 3456789012, Status: available\n"
     ]
    }
   ],
   "source": [
    "class Book:\n",
    "    def __init__(self, title, author, isbn, status='available'):\n",
    "        self.__title = title\n",
    "        self.__author = author\n",
    "        self.__isbn = isbn\n",
    "        self.__status = status\n",
    "    def get_title(self):\n",
    "        return self.__title \n",
    "    def get_author(self):\n",
    "        return self.__author  \n",
    "    def get_isbn(self):\n",
    "        return self.__isbn   \n",
    "    def get_status(self):\n",
    "        return self.__status\n",
    "    def set_status(self, status):\n",
    "        if status in ['available', 'borrowed']:\n",
    "            self.__status = status\n",
    "        else:\n",
    "            raise ValueError(\"Status must be either 'available' or 'borrowed'\")\n",
    "    def __str__(self):\n",
    "        return f\"Title: {self.__title}, Author: {self.__author}, ISBN: {self.__isbn}, Status: {self.__status}\"\n",
    "class Member:\n",
    "    def __init__(self, name, member_id, email):\n",
    "        self.__name = name\n",
    "        self.__member_id = member_id\n",
    "        self.__email = email\n",
    "        self.__borrowed_books = []\n",
    "    def get_name(self):\n",
    "        return self.__name \n",
    "    def get_member_id(self):\n",
    "        return self.__member_id  \n",
    "    def get_email(self):\n",
    "        return self.__email   \n",
    "    def get_borrowed_books(self):\n",
    "        return self.__borrowed_books\n",
    "    def borrow_book(self, book):\n",
    "        if book.get_status() == 'available':\n",
    "            book.set_status('borrowed')\n",
    "            self.__borrowed_books.append(book)\n",
    "            print(f\"{self.__name} has borrowed '{book.get_title()}'.\")\n",
    "        else:\n",
    "            print(f\"'{book.get_title()}' is already borrowed.\")\n",
    "    def return_book(self, book):\n",
    "        if book in self.__borrowed_books:\n",
    "            book.set_status('available')\n",
    "            self.__borrowed_books.remove(book)\n",
    "            print(f\"{self.__name} has returned '{book.get_title()}'.\")\n",
    "        else:\n",
    "            print(f\"'{book.get_title()}' is not in the borrowed books list.\")\n",
    "    def __str__(self):\n",
    "        borrowed_titles = [book.get_title() for book in self.__borrowed_books]\n",
    "        return f\"Name: {self.__name}, Member ID: {self.__member_id}, Email: {self.__email}, Borrowed Books: {borrowed_titles}\"\n",
    "class Library:\n",
    "    def __init__(self):\n",
    "        self.__inventory = []\n",
    "    def add_book(self, book):\n",
    "        self.__inventory.append(book)\n",
    "        print(f\"Book '{book.get_title()}' added to the library.\")\n",
    "    def display_books(self):\n",
    "        print(\"Available books in the library:\")\n",
    "        for book in self.__inventory:\n",
    "            print(book)\n",
    "    def find_book_by_isbn(self, isbn):\n",
    "        for book in self.__inventory:\n",
    "            if book.get_isbn() == isbn:\n",
    "                return book\n",
    "        print(\"Book not found.\")\n",
    "        return None\n",
    "    def __str__(self):\n",
    "        return f\"Library has {len(self.__inventory)} books.\"\n",
    "if __name__ == \"__main__\":\n",
    "    book1 = Book(\"1984\", \"George Orwell\", \"1234567890\")\n",
    "    book2 = Book(\"To Kill a Mockingbird\", \"Harper Lee\", \"2345678901\")\n",
    "    book3 = Book(\"The Great Gatsby\", \"F. Scott Fitzgerald\", \"3456789012\")\n",
    "    library = Library()\n",
    "    library.add_book(book1)\n",
    "    library.add_book(book2)\n",
    "    library.add_book(book3)\n",
    "    library.display_books()\n",
    "    member = Member(\"John Doe\", \"M001\", \"john.doe@example.com\")\n",
    "    member.borrow_book(book1)\n",
    "    print(member)\n",
    "    member.borrow_book(book1)\n",
    "    member.return_book(book1)\n",
    "    library.display_books()\n"
   ]
  },
  {
   "cell_type": "code",
   "execution_count": null,
   "id": "0775d071-dd18-4d11-a316-1dd4265db89e",
   "metadata": {},
   "outputs": [],
   "source": []
  }
 ],
 "metadata": {
  "kernelspec": {
   "display_name": "Python 3 (ipykernel)",
   "language": "python",
   "name": "python3"
  },
  "language_info": {
   "codemirror_mode": {
    "name": "ipython",
    "version": 3
   },
   "file_extension": ".py",
   "mimetype": "text/x-python",
   "name": "python",
   "nbconvert_exporter": "python",
   "pygments_lexer": "ipython3",
   "version": "3.12.7"
  }
 },
 "nbformat": 4,
 "nbformat_minor": 5
}
